{
 "cells": [
  {
   "cell_type": "code",
   "execution_count": 1,
   "metadata": {},
   "outputs": [],
   "source": [
    "import os\n",
    "import csv\n",
    "import json\n",
    "import ast\n",
    "import shutil\n",
    "import random\n",
    "from collections import Counter\n",
    "import matplotlib.pyplot as plt"
   ]
  },
  {
   "cell_type": "markdown",
   "metadata": {},
   "source": [
    "Recursive Search for a Key"
   ]
  },
  {
   "cell_type": "code",
   "execution_count": null,
   "metadata": {},
   "outputs": [],
   "source": [
    "def find_key_value(data, target_key, categories=None):\n",
    "    \n",
    "    if categories is None:\n",
    "        categories = []\n",
    "\n",
    "    if isinstance(data, dict):\n",
    "        for key, value in data.items():\n",
    "            if key == target_key:\n",
    "                categories.append(value)\n",
    "            find_key_value(value, target_key, categories)\n",
    "\n",
    "    elif isinstance(data, list):\n",
    "        for item in data:\n",
    "            find_key_value(item, target_key, categories)\n",
    "\n",
    "    return categories"
   ]
  },
  {
   "cell_type": "markdown",
   "metadata": {},
   "source": [
    "Save labels as dictionary"
   ]
  },
  {
   "cell_type": "code",
   "execution_count": null,
   "metadata": {},
   "outputs": [],
   "source": [
    "# annotation paths\n",
    "path1 = \"/vol/ideadata/ep56inew/image_subsets/labels/vidvrd-dataset/test\"\n",
    "path2 = \"/vol/ideadata/ep56inew/image_subsets/labels/vidvrd-dataset/train\"\n",
    "\n",
    "all_videos_list = []\n",
    "\n",
    "def create_label_list(annotations_path):\n",
    "    for item in os.listdir(annotations_path):\n",
    "        item_path = os.path.join(annotations_path, item)\n",
    "        \n",
    "        # process one json file\n",
    "        if os.path.isfile(item_path):\n",
    "            with open(item_path, 'r') as json_file:\n",
    "\n",
    "                # initialize list\n",
    "                my_list = []\n",
    "\n",
    "                # write json file into a dictionary\n",
    "                data = json.load(json_file)\n",
    "\n",
    "                # extract video name\n",
    "                video_id = data[\"video_id\"] \n",
    "                print(video_id)\n",
    "\n",
    "                # extract label\n",
    "                labels = find_key_value(data, \"category\")\n",
    "                labels_amount = len(labels)\n",
    "                \n",
    "                # write values into list (to save in csv later)\n",
    "                my_list.extend([video_id, labels_amount, labels])\n",
    "        \n",
    "                all_videos_list.append(my_list)\n",
    "\n",
    "create_label_list(path1)\n",
    "create_label_list(path2)\n",
    "len(all_videos_list)"
   ]
  },
  {
   "cell_type": "markdown",
   "metadata": {},
   "source": [
    "Write list with video names and labels to csv file"
   ]
  },
  {
   "cell_type": "code",
   "execution_count": null,
   "metadata": {},
   "outputs": [],
   "source": [
    "# initialize csv file\n",
    "with open(\"/vol/ideadata/ep56inew/ImageNet_VidVRD/labels/labels.csv\", \"a\", newline='') as final_file:\n",
    "    writer = csv.writer(final_file)\n",
    "\n",
    "    # Write each list as a row in the CSV file\n",
    "    for lst in all_videos_list:\n",
    "        writer.writerow(lst)\n",
    "\n",
    "print(\"Data has been written to output.csv\")"
   ]
  },
  {
   "cell_type": "markdown",
   "metadata": {},
   "source": [
    "Find videos that only have one class"
   ]
  },
  {
   "cell_type": "code",
   "execution_count": null,
   "metadata": {},
   "outputs": [],
   "source": [
    "\n",
    "# Function to check if all elements in a list are the same\n",
    "def all_elements_same(lst):\n",
    "    return len(set(lst)) == 1\n",
    "\n",
    "# Read the CSV file and filter rows\n",
    "input_file = '/vol/ideadata/ep56inew/ImageNet_VidVRD/labels/labels.csv'\n",
    "output_file = '/vol/ideadata/ep56inew/ImageNet_VidVRD/labels/one_class_labels.csv'\n",
    "\n",
    "filtered_rows = []\n",
    "\n",
    "with open(input_file, mode='r', newline='') as infile:\n",
    "    reader = csv.reader(infile)\n",
    "    headers = next(reader)  # Assuming the first row is the header\n",
    "    filtered_rows.append(headers)  # Keep the header in the filtered rows\n",
    "    \n",
    "    for row in reader:\n",
    "        # Parse the third column as a list\n",
    "        list_in_third_column = ast.literal_eval(row[2])\n",
    "        \n",
    "        if all_elements_same(list_in_third_column):\n",
    "            filtered_rows.append(row)\n",
    "\n",
    "# Write the filtered rows to a new CSV file\n",
    "with open(output_file, mode='w', newline='') as outfile:\n",
    "    writer = csv.writer(outfile)\n",
    "    writer.writerows(filtered_rows)\n",
    "\n",
    "print(f\"Filtered rows have been written to {output_file}\")"
   ]
  },
  {
   "cell_type": "markdown",
   "metadata": {},
   "source": [
    "Construct new csv file with video name in first column and one-class-label in second column"
   ]
  },
  {
   "cell_type": "code",
   "execution_count": null,
   "metadata": {},
   "outputs": [],
   "source": [
    "# Function to read from the original CSV and write to the new CSV\n",
    "def process_csv(input_file, output_file):\n",
    "    with open(input_file, 'r') as infile, open(output_file, 'w', newline='') as outfile:\n",
    "        reader = csv.reader(infile)\n",
    "        writer = csv.writer(outfile)\n",
    "\n",
    "        # Process each row in the original CSV\n",
    "        for row in reader:\n",
    "            first_column = row[0] + '.mp4'\n",
    "            list_column = ast.literal_eval(row[2])  # Convert the string representation of the list to an actual list\n",
    "            if isinstance(list_column, list) and list_column:\n",
    "                first_element = list_column[0]\n",
    "            else:\n",
    "                first_element = None  # Handle cases where the list is empty or not a list\n",
    "            \n",
    "            # Write the new row to the output CSV\n",
    "            writer.writerow([first_column, first_element])\n",
    "\n",
    "# Example usage\n",
    "input_file = '/vol/ideadata/ep56inew/ImageNet_VidVRD/labels/one_class_labels.csv'  # Replace with the path to your input CSV file\n",
    "output_file = '/vol/ideadata/ep56inew/ImageNet_VidVRD/labels/one_class_labels_final.csv'  # Replace with the path to your output CSV file\n",
    "process_csv(input_file, output_file)"
   ]
  },
  {
   "cell_type": "markdown",
   "metadata": {},
   "source": [
    "Define split into TRAIN and TEST"
   ]
  },
  {
   "cell_type": "code",
   "execution_count": 4,
   "metadata": {},
   "outputs": [],
   "source": [
    "csv_in = \"/vol/ideadata/ep56inew/ImageNet_VidVRD/labels/official_split/one_class_labels_final.csv\"\n",
    "csv_out = \"/vol/ideadata/ep56inew/ImageNet_VidVRD/labels/official_split/one_class_labels_final_split.csv\""
   ]
  },
  {
   "cell_type": "code",
   "execution_count": 2,
   "metadata": {},
   "outputs": [],
   "source": [
    "# if in first column name \"train\" is included, add column with \"TRAIN\"\n",
    "# else, add column \"TEST\"\n",
    "\n",
    "\n",
    "def add_column_to_csv(input_csv, output_csv):\n",
    "\n",
    "    # Read the existing CSV\n",
    "    with open(input_csv, mode='r') as infile, open(output_csv, mode='w', newline='') as outfile:\n",
    "        reader = csv.reader(infile)\n",
    "        writer = csv.writer(outfile)\n",
    "        \n",
    "        # Add new column values to each row\n",
    "        for row in reader:\n",
    "            if \"train\" in row[0]:\n",
    "                row.append(\"TRAIN\")  # Append the new column value\n",
    "            elif \"val\" in row[0]:\n",
    "                row.append(\"TEST\")\n",
    "            else:\n",
    "                row.append(\"UNDEFINED\")\n",
    "           \n",
    "            writer.writerow(row)  # Write the updated row\n",
    "\n",
    "add_column_to_csv(csv_in, csv_out)"
   ]
  },
  {
   "cell_type": "markdown",
   "metadata": {},
   "source": [
    "Check how many labels we have"
   ]
  },
  {
   "cell_type": "code",
   "execution_count": 13,
   "metadata": {},
   "outputs": [
    {
     "name": "stdout",
     "output_type": "stream",
     "text": [
      "classes and number of videos with that class: {'zebra': 41, 'fox': 13, 'red_panda': 19, 'tiger': 3, 'bird': 26, 'bear': 13, 'hamster': 5, 'giant_panda': 29, 'train': 8, 'airplane': 19, 'antelope': 36, 'cattle': 21, 'horse': 13, 'monkey': 26, 'elephant': 14, 'lion': 11, 'lizard': 4, 'person': 2, 'dog': 16, 'watercraft': 13, 'sheep': 23, 'rabbit': 6, 'car': 29, 'turtle': 4, 'bus': 2, 'squirrel': 5, 'whale': 8}\n",
      "Amount of classes: 27\n"
     ]
    }
   ],
   "source": [
    "csv_in = \"/vol/ideadata/ep56inew/ImageNet_VidVRD/labels/official_split/one_class_labels_final_split_removed_classes.csv\"\n",
    "\n",
    "with open(csv_in, mode=\"r\") as infile:\n",
    "    reader = csv.reader(infile)\n",
    "\n",
    "    category_dict = {}\n",
    "\n",
    "    for row in reader:\n",
    "        if row[1] not in category_dict:\n",
    "            category_dict[row[1]] = 1\n",
    "        else:\n",
    "            category_dict[row[1]] += 1\n",
    "    \n",
    "    print(f\"classes and number of videos with that class: {category_dict}\")\n",
    "    print(f\"Amount of classes: {len(category_dict)}\")"
   ]
  },
  {
   "cell_type": "markdown",
   "metadata": {},
   "source": [
    "I have now: 60 validation videos (15%)\n",
    "351 training videos (85%)\n",
    "\n",
    "The classes \"motorcycle\" and \"domestic cat\" are only represented once in the training set and not in the test set.  \n",
    "We remove these instances from the csv:  \n",
    "ILSVRC2015_train_00411000.mp4 (domestic cat)  \n",
    "ILSVRC2015_train_00053000.mp4 (motorcycle)\n",
    "\n",
    "new csv: one_class_labels_final_split_removed_classes.csv  \n",
    "We only have 27 classes now  \n",
    "\n",
    "Create a 15% validation set (60 videos). Ensure the validation set is balanced."
   ]
  },
  {
   "cell_type": "code",
   "execution_count": 17,
   "metadata": {},
   "outputs": [
    {
     "name": "stdout",
     "output_type": "stream",
     "text": [
      "348\n",
      "60\n",
      "0.17191977077363896\n"
     ]
    }
   ],
   "source": [
    "import pandas as pd\n",
    "from sklearn.model_selection import train_test_split\n",
    "\n",
    "csv_in = \"/vol/ideadata/ep56inew/ImageNet_VidVRD/labels/official_split/one_class_labels_final_split_removed_classes.csv\"\n",
    "\n",
    "# Load the CSV file\n",
    "data = pd.read_csv(csv_in, header=None)\n",
    "\n",
    "# Filter rows where the second column (index 1) is \"TRAIN\"\n",
    "train_data = data[data[2] == \"TRAIN\"]\n",
    "# bus is only once in the train set and once in the test set\n",
    "train_data = train_data[train_data[1] != \"bus\"]\n",
    "\n",
    "test_data = data[data[2] == \"TEST\"]\n",
    "\n",
    "\n",
    "print(len(train_data)) # 349\n",
    "print(len(test_data)) # 60\n",
    "print(60/349) # 17%\n",
    "\n",
    "# Split into training and validation while maintaining class balance\n",
    "train_data, val_data = train_test_split(\n",
    "    train_data,\n",
    "    test_size=0.17,\n",
    "    stratify=train_data[1]  # Use class labels to balance\n",
    ")"
   ]
  },
  {
   "cell_type": "markdown",
   "metadata": {},
   "source": [
    "Overwrite third column in val data with \"VAL\" instead of \"TRAIN\""
   ]
  },
  {
   "cell_type": "code",
   "execution_count": 18,
   "metadata": {},
   "outputs": [],
   "source": [
    "# Replace \"TRAIN\" with \"VAL\" in the third column (index 2)\n",
    "val_data[2] = val_data[2].replace(\"TRAIN\", \"VAL\")"
   ]
  },
  {
   "cell_type": "markdown",
   "metadata": {},
   "source": [
    "Now I want to replace the rows of the original data frame (data) which are also in val_data with \"VAL\" in the second column. "
   ]
  },
  {
   "cell_type": "code",
   "execution_count": 19,
   "metadata": {},
   "outputs": [],
   "source": [
    "# Replace the third column in \"data\" with \"VAL\" when the first column of \"data\" appears in \"val_data\"\n",
    "data.loc[data[0].isin(val_data[0]), 2] = \"VAL\""
   ]
  },
  {
   "cell_type": "markdown",
   "metadata": {},
   "source": [
    "Save data to new csv"
   ]
  },
  {
   "cell_type": "code",
   "execution_count": 21,
   "metadata": {},
   "outputs": [],
   "source": [
    "data.to_csv(\"/vol/ideadata/ep56inew/ImageNet_VidVRD/labels/official_split/one_class_labels_final_split_removed_classes_VAL.csv\", index = False, header = None)"
   ]
  },
  {
   "cell_type": "markdown",
   "metadata": {},
   "source": [
    "Check how many TRAIN, TEST and VAL data "
   ]
  },
  {
   "cell_type": "code",
   "execution_count": 26,
   "metadata": {},
   "outputs": [
    {
     "name": "stdout",
     "output_type": "stream",
     "text": [
      "Splits: {'TRAIN': 289, 'VAL': 60, 'TEST': 60}\n"
     ]
    }
   ],
   "source": [
    "csv_in = \"/vol/ideadata/ep56inew/ImageNet_VidVRD/labels/official_split/one_class_labels_final_split_removed_classes_VAL_num.csv\"\n",
    "\n",
    "with open(csv_in, mode=\"r\") as infile:\n",
    "    reader = csv.reader(infile)\n",
    "\n",
    "    category_dict = {}\n",
    "\n",
    "    for row in reader:\n",
    "        if row[2] not in category_dict:\n",
    "            category_dict[row[2]] = 1\n",
    "        else:\n",
    "            category_dict[row[2]] += 1\n",
    "    \n",
    "    print(f\"Splits: {category_dict}\")"
   ]
  },
  {
   "cell_type": "markdown",
   "metadata": {},
   "source": [
    "Now I have a csv with labels and a perfect split of TRAIN, TEST and VAL!  \n",
    "Next step: replace labels with numbers  \n",
    "Then create dictionary file to look up which number belongs to which class"
   ]
  },
  {
   "cell_type": "code",
   "execution_count": 22,
   "metadata": {},
   "outputs": [],
   "source": [
    "# Plan: erstelle Dictionary mit String als Kategorie und Nummer als Klassennummer\n",
    "# Wenn String-Label noch nicht Dictionary dann erstelle neuen Dictionary Eintrag\n",
    "# Wenn schon eingetragen: Greife auf Nummer im Dictionary zu \n",
    "\n",
    "def numerical_labels(input_file, output_file, dictionary_file):\n",
    "\n",
    "    labels_dict = {}\n",
    "    label_number = 0\n",
    "\n",
    "    with open(input_file, 'r') as infile, open(output_file, 'w', newline='') as outfile1, open(dictionary_file, 'w', newline='') as outfile2:\n",
    "\n",
    "        reader = csv.reader(infile)\n",
    "        writer1 = csv.writer(outfile1)\n",
    "        writer2 = csv.writer(outfile2)\n",
    "\n",
    "        for row in reader:\n",
    "\n",
    "            string_label = row[1]\n",
    "            \n",
    "            if string_label not in labels_dict:\n",
    "                labels_dict[string_label] = label_number\n",
    "                label_number += 1\n",
    "\n",
    "            new_row = [row[0], labels_dict[string_label], row[2]]\n",
    "\n",
    "            # Write row to new csv file:\n",
    "            writer1.writerow(new_row)\n",
    "\n",
    "        # Iterate over the dictionary and write each key-value pair as a row\n",
    "        for key, value in labels_dict.items():\n",
    "            writer2.writerow([key, value])\n",
    "\n",
    "# execute for original file\n",
    "input_file = \"/vol/ideadata/ep56inew/ImageNet_VidVRD/labels/official_split/one_class_labels_final_split_removed_classes_VAL.csv\"\n",
    "output_file = \"/vol/ideadata/ep56inew/ImageNet_VidVRD/labels/official_split/one_class_labels_final_split_removed_classes_VAL_num.csv\"\n",
    "dictionary_file = \"/vol/ideadata/ep56inew/ImageNet_VidVRD/labels/official_split/dictionary_classes_vs_num.csv\"\n",
    "numerical_labels(input_file, output_file, dictionary_file)"
   ]
  },
  {
   "cell_type": "markdown",
   "metadata": {},
   "source": [
    "Next step: Based on the labels we create subsets for validation set, test set and all subsets and coresets for the training set. Use the corresponding scripts for that.  "
   ]
  },
  {
   "cell_type": "markdown",
   "metadata": {},
   "source": [
    "Show distribution of TRAIN, VAL, and TEST set"
   ]
  },
  {
   "cell_type": "code",
   "execution_count": 14,
   "metadata": {},
   "outputs": [
    {
     "data": {
      "image/png": "[encoded data removed]",
      "text/plain": [
       "<Figure size 800x500 with 1 Axes>"
      ]
     },
     "metadata": {},
     "output_type": "display_data"
    }
   ],
   "source": [
    "import pandas as pd\n",
    "import matplotlib.pyplot as plt\n",
    "\n",
    "# Step 1: Load the CSV file\n",
    "df = pd.read_csv('/vol/ideadata/ep56inew/ImageNet_VidVRD/labels/official_split/one_class_labels_final_split_removed_classes_VAL_num.csv')\n",
    "\n",
    "# Step 2: Count occurrences in the second column\n",
    "counts = df[df.iloc[:, 2] == \"VAL\"].iloc[:, 1].value_counts()\n",
    "\n",
    "# Sort the Series by index (x-axis) in ascending order\n",
    "sorted_counts = counts.sort_index()\n",
    "\n",
    "# Step 3: Plot the histogram\n",
    "plt.figure(figsize=(8, 5))\n",
    "sorted_counts.plot(kind='bar', color='skyblue')\n",
    "plt.title('Distribution of Classes in Validation Set')\n",
    "plt.xlabel('Classes')\n",
    "plt.ylabel('Frequency')\n",
    "plt.xticks(rotation=0)  # Rotate x-axis labels if needed\n",
    "plt.show()"
   ]
  }
 ],
 "metadata": {
  "kernelspec": {
   "display_name": "Python 3",
   "language": "python",
   "name": "python3"
  },
  "language_info": {
   "codemirror_mode": {
    "name": "ipython",
    "version": 3
   },
   "file_extension": ".py",
   "mimetype": "text/x-python",
   "name": "python",
   "nbconvert_exporter": "python",
   "pygments_lexer": "ipython3",
   "version": "3.9.12"
  }
 },
 "nbformat": 4,
 "nbformat_minor": 2
}
