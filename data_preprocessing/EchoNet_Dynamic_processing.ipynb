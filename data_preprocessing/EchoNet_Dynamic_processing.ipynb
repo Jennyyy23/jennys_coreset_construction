{
 "cells": [
  {
   "cell_type": "markdown",
   "metadata": {},
   "source": [
    "Add EF categories to csv (reduced, borderline, normal)"
   ]
  },
  {
   "cell_type": "code",
   "execution_count": 2,
   "metadata": {},
   "outputs": [],
   "source": [
    "import csv\n",
    "\n",
    "def add_categories(original_csv_file, output_csv_file):\n",
    "\n",
    "    with open(original_csv_file, mode=\"r\") as infile, open(output_csv_file, mode=\"w\", newline=\"\") as outfile:\n",
    "        reader = csv.reader(infile)\n",
    "        writer = csv.writer(outfile)\n",
    "\n",
    "        # Add your new column header here\n",
    "        headers = next(reader)\n",
    "        headers.append('new_column_name')\n",
    "    \n",
    "        # Write the header to the new file\n",
    "        writer.writerow(headers)\n",
    "\n",
    "        for row in reader:\n",
    "            # Convert row[1] to a float because \n",
    "            value = float(row[1])\n",
    "            # reduced EF\n",
    "            if value <= 40:\n",
    "                row.append(0)\n",
    "            # borderline EF\n",
    "            elif 40 < value < 50:\n",
    "                row.append(1)\n",
    "            # normal EF\n",
    "            elif 50 <= value:\n",
    "                row.append(2)\n",
    "\n",
    "            writer.writerow(row)\n",
    "\n",
    "original_csv_file = \"/vol/ideadata/ep56inew/EchoNet/EchoNet-Dynamic/FileList.csv\"\n",
    "output_csv_file = \"/vol/ideadata/ep56inew/EchoNet/EchoNet-Dynamic/FileList_EF_categories.csv\"\n",
    "\n",
    "add_categories(original_csv_file, output_csv_file)"
   ]
  },
  {
   "cell_type": "markdown",
   "metadata": {},
   "source": [
    "Show how many categories we have "
   ]
  },
  {
   "cell_type": "code",
   "execution_count": 7,
   "metadata": {},
   "outputs": [
    {
     "name": "stdout",
     "output_type": "stream",
     "text": [
      "{'VAL': 1288, 'TRAIN': 7465, 'TEST': 1277}\n"
     ]
    }
   ],
   "source": [
    "import csv\n",
    "\n",
    "def histogram(imput_csv, column_idx):\n",
    "\n",
    "    categories = {}\n",
    "\n",
    "    with open(imput_csv, mode=\"r\") as infile:\n",
    "\n",
    "        reader = csv.reader(infile)\n",
    "        rows = list(reader)\n",
    "\n",
    "        # Skip the header\n",
    "        rows = rows[1:]\n",
    "\n",
    "        for row in rows:\n",
    "\n",
    "            value = row[column_idx]\n",
    "\n",
    "            if value not in categories:\n",
    "                categories[value] = 1\n",
    "            else:\n",
    "                categories[value] += 1\n",
    "\n",
    "        print(categories)\n",
    "\n",
    "histogram(\"/vol/ideadata/ep56inew/EchoNet/EchoNet-Dynamic/FileList.csv\", 8)\n"
   ]
  },
  {
   "cell_type": "markdown",
   "metadata": {},
   "source": [
    "official val train test split \n",
    "\n",
    "train: 74%\n",
    "val: 13%\n",
    "test: 13% "
   ]
  },
  {
   "cell_type": "markdown",
   "metadata": {},
   "source": [
    "insgesamt: 10030  \n",
    "0: 13% (1264)  \n",
    "1: 10% (982)  \n",
    "2: 77% (7784) "
   ]
  },
  {
   "cell_type": "markdown",
   "metadata": {},
   "source": [
    "Now we save label csv based on the EF value (0: reduced, 1: borderline, 2: normal)"
   ]
  },
  {
   "cell_type": "code",
   "execution_count": 11,
   "metadata": {},
   "outputs": [],
   "source": [
    "import csv\n",
    "import os\n",
    "# attention! csv reads everything as strings \n",
    "\n",
    "def replace_column(regression_csv, classification_csv):\n",
    "\n",
    "    with open(regression_csv, mode='r') as infile, open(classification_csv, mode='w') as outfile:\n",
    "        reader = csv.reader(infile)\n",
    "        writer = csv.writer(outfile)\n",
    "\n",
    "        for row in reader:\n",
    "            if float(row[1]) <= 40:\n",
    "                writer.writerow([row[0],0])\n",
    "            elif 40 < float(row[1]) < 50:\n",
    "                writer.writerow([row[0],1])\n",
    "            elif 50 <= float(row[1]):\n",
    "                writer.writerow([row[0],2])\n",
    "\n",
    "# execute\n",
    "regression_csv = \"/vol/ideadata/ep56inew/EchoNet/EchoNet-Dynamic/official_split/labels_EF_regression/ED_EF_labels_test.csv\"\n",
    "classification_csv = os.path.join(\"/vol/ideadata/ep56inew/EchoNet/EchoNet-Dynamic/official_split/labels_EF_categories\", \"ED_cat_test.csv\")\n",
    "replace_column(regression_csv, classification_csv)"
   ]
  }
 ],
 "metadata": {
  "kernelspec": {
   "display_name": "Python 3",
   "language": "python",
   "name": "python3"
  },
  "language_info": {
   "codemirror_mode": {
    "name": "ipython",
    "version": 3
   },
   "file_extension": ".py",
   "mimetype": "text/x-python",
   "name": "python",
   "nbconvert_exporter": "python",
   "pygments_lexer": "ipython3",
   "version": "3.9.12"
  }
 },
 "nbformat": 4,
 "nbformat_minor": 2
}
