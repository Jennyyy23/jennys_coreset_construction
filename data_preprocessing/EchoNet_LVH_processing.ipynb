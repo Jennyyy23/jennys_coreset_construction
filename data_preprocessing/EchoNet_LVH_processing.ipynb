{
 "cells": [
  {
   "cell_type": "markdown",
   "metadata": {},
   "source": [
    "asymmetrische Septumhypertrophie (linksventrikulär): Wenn Verhältnis von Septumdicke zur Hinterwanddicke größer als 1,3 ist.  \n",
    "Septumdicke: IVS (intraventrikuläres Septum)  \n",
    "Hinterwanddicke: LVPW \n",
    "\n",
    "Create new feature: asym = IVS / LVPW"
   ]
  },
  {
   "cell_type": "code",
   "execution_count": 1,
   "metadata": {},
   "outputs": [
    {
     "name": "stdout",
     "output_type": "stream",
     "text": [
      "CSV file created successfully.\n"
     ]
    }
   ],
   "source": [
    "import csv\n",
    "\n",
    "def new_feature(input_file, output_file):\n",
    "\n",
    "    unique_file_names = set()\n",
    "    final_rows = [['file', 'IVSd', 'LVPWd', 'fraction']]\n",
    "\n",
    "    with open(input_file, mode='r') as infile:\n",
    "        reader = csv.reader(infile)\n",
    "        rows = list(reader)\n",
    "\n",
    "    # Skip the header\n",
    "    rows = rows[1:]\n",
    "\n",
    "    # Loop through the rows in the input CSV file\n",
    "    for row in rows:\n",
    "        # Check if the file is already included\n",
    "        unique_file_names.add(row[1])\n",
    "\n",
    "    for file in unique_file_names:\n",
    "\n",
    "        ivsd = 0\n",
    "        lvpwd = 0\n",
    "        new_row = [file]\n",
    "\n",
    "        for row in rows:\n",
    "\n",
    "            if row[1] == file and row[2] == 'IVSd':\n",
    "                # If a match is found, retrieve the value from the third column\n",
    "                ivsd = float(row[3])\n",
    "                new_row.append(ivsd)\n",
    "            if row[1] == file and row[2] == 'LVPWd':\n",
    "                lvpwd = float(row[3])\n",
    "                new_row.append(lvpwd)\n",
    "\n",
    "        # calculate fraction\n",
    "        if lvpwd != 0:\n",
    "            new_row.append(ivsd/lvpwd)\n",
    "\n",
    "        if len(new_row) == 4: # only append if all values could be found\n",
    "            final_rows.append(new_row)\n",
    "\n",
    "    # Open the CSV file in write mode\n",
    "    with open(output_file, 'w', newline='') as file:\n",
    "        writer = csv.writer(file)\n",
    "    \n",
    "        # Write each inner list as a row in the CSV\n",
    "        writer.writerows(final_rows)\n",
    "\n",
    "    print(\"CSV file created successfully.\")\n",
    "\n",
    "\n",
    "input_file = \"/vol/ideadata/ep56inew/EchoNet/EchoNet-LVH/MeasurementsList.csv\"\n",
    "output_file = \"/vol/ideadata/ep56inew/EchoNet/EchoNet-LVH/MeasurementsList_new_clean.csv\"\n",
    "\n",
    "file_names = new_feature(input_file, output_file)\n"
   ]
  },
  {
   "cell_type": "markdown",
   "metadata": {},
   "source": [
    "Now when the IVS/LVPW fraction is greater than 1/1,3 we have asymmetric septal hypertrophy (ASH) (Class 1, if less: Class 0)"
   ]
  },
  {
   "cell_type": "code",
   "execution_count": 10,
   "metadata": {},
   "outputs": [
    {
     "name": "stdout",
     "output_type": "stream",
     "text": [
      "New CSV file created with an additional column: /vol/ideadata/ep56inew/EchoNet/EchoNet-LVH/MeasurementsList_new_clean_ASH.csv\n"
     ]
    }
   ],
   "source": [
    "import csv\n",
    "\n",
    "def append_column_based_on_4th_column(input_file, output_file):\n",
    "    threshold = 1 / 1.3  # This is approximately 0.769\n",
    "\n",
    "    # Read the CSV file\n",
    "    with open(input_file, mode='r') as infile:\n",
    "        reader = csv.reader(infile)\n",
    "        rows = list(reader)  # Read all rows into memory\n",
    "\n",
    "    # Add a new header for the additional column\n",
    "    rows[0].append('ASH')\n",
    "\n",
    "    # Loop through each row and apply the condition based on the 4th column\n",
    "    for row in rows[1:]:  # Skip the header row\n",
    "        # Ensure we are working with a numeric value in the 4th column\n",
    "        try:\n",
    "            col_value = float(row[3])  # Convert the 4th column value to float\n",
    "            if col_value <= threshold:\n",
    "                row.append(0)\n",
    "            else:\n",
    "                row.append(1)\n",
    "        except ValueError:\n",
    "            # If conversion fails, append a default value (e.g., 0 or handle the error)\n",
    "            row.append(2)\n",
    "\n",
    "    # Write the updated rows back to a new CSV file\n",
    "    with open(output_file, mode='w', newline='') as outfile:\n",
    "        writer = csv.writer(outfile)\n",
    "        writer.writerows(rows)\n",
    "\n",
    "    print(f\"New CSV file created with an additional column: {output_file}\")\n",
    "\n",
    "# Example usage\n",
    "input_file = '/vol/ideadata/ep56inew/EchoNet/EchoNet-LVH/MeasurementsList_new_clean.csv'\n",
    "output_file = '/vol/ideadata/ep56inew/EchoNet/EchoNet-LVH/MeasurementsList_new_clean_ASH.csv'\n",
    "append_column_based_on_4th_column(input_file, output_file)"
   ]
  },
  {
   "cell_type": "markdown",
   "metadata": {},
   "source": [
    "Count Categories"
   ]
  },
  {
   "cell_type": "code",
   "execution_count": 1,
   "metadata": {},
   "outputs": [
    {
     "name": "stdout",
     "output_type": "stream",
     "text": [
      "healthy: 247, 0.021348314606741574 %\n",
      "sick: 11322, 0.9785652549697493 %\n",
      "other: 0, 0.0 %\n"
     ]
    }
   ],
   "source": [
    "import csv\n",
    "\n",
    "def count_train_test_val(input_file):\n",
    "    # Initialize counters for \"TRAIN\", \"TEST\", and \"VAL\"\n",
    "    train_count = 0\n",
    "    test_count = 0\n",
    "    val_count = 0\n",
    "\n",
    "    # Open and read the CSV file\n",
    "    with open(input_file, mode='r') as infile:\n",
    "        reader = csv.reader(infile)\n",
    "        rows = list(reader)\n",
    "        number_of_rows = len(rows)\n",
    "        # next(reader)  # Skip the header row\n",
    "\n",
    "        # Loop through each row in the file\n",
    "        # for row in rows:\n",
    "        #     if row[4] == 'TRAIN':\n",
    "        #         train_count += 1\n",
    "        #     elif row[4] == 'TEST':\n",
    "        #         test_count += 1\n",
    "        #     elif row[4] == 'VAL':\n",
    "        #         val_count += 1\n",
    "\n",
    "        for row in rows:\n",
    "            if row[4] == '0':\n",
    "                train_count += 1\n",
    "            elif row[4] == '1':\n",
    "                test_count += 1\n",
    "            elif row[4] == '2':\n",
    "                val_count += 1\n",
    "\n",
    "    # Print or return the counts\n",
    "    print(f\"healthy: {train_count}, {train_count/number_of_rows} %\")\n",
    "    print(f\"sick: {test_count}, {test_count/number_of_rows} %\")\n",
    "    print(f\"other: {val_count}, {val_count/number_of_rows} %\")\n",
    "\n",
    "# Example usage\n",
    "input_file = '/vol/ideadata/ep56inew/EchoNet/EchoNet-LVH/MeasurementsList_new_clean_ASH.csv'\n",
    "# input_file = '/vol/ideadata/ep56inew/EchoNet/EchoNet-LVH/MeasurementsList_new_clean_ASH_reduced.csv'\n",
    "count_train_test_val(input_file)"
   ]
  },
  {
   "cell_type": "markdown",
   "metadata": {},
   "source": [
    "Now we want to have a balanced test and validation set but the training set can be imbalanced.  \n",
    "247 / 3 = 82 Rest 1\n",
    "Put 82 of category 0 into validation and test set each, and 83 into training set.\n",
    "Put further 82 of category 1 into validation and test set, and the rest into training set. "
   ]
  },
  {
   "cell_type": "code",
   "execution_count": 2,
   "metadata": {},
   "outputs": [
    {
     "name": "stdout",
     "output_type": "stream",
     "text": [
      "CSV file sorted successfully!\n"
     ]
    }
   ],
   "source": [
    "import pandas as pd\n",
    "\n",
    "# Load the CSV file into a pandas DataFrame\n",
    "df = pd.read_csv('/vol/ideadata/ep56inew/EchoNet/EchoNet-LVH/MeasurementsList_new_clean_ASH.csv')\n",
    "\n",
    "# Sort the DataFrame by the specific column (replace 'status' with your column name)\n",
    "sorted_df = df.sort_values(by='ASH')\n",
    "\n",
    "# Save the sorted DataFrame back to a CSV file (or overwrite the original)\n",
    "sorted_df.to_csv('/vol/ideadata/ep56inew/EchoNet/EchoNet-LVH/MeasurementsList_new_clean_ASH_sorted.csv', index=False)\n",
    "\n",
    "print(\"CSV file sorted successfully!\")"
   ]
  },
  {
   "cell_type": "markdown",
   "metadata": {},
   "source": [
    "sick: 11322 (category 1)  \n",
    "11322 - (2 * 82)  \n",
    "= 11158"
   ]
  },
  {
   "cell_type": "code",
   "execution_count": 3,
   "metadata": {},
   "outputs": [],
   "source": [
    "set_column = []\n",
    "set = [\"set\"]\n",
    "val_0 = [\"VAL\"] * 82\n",
    "test_0 = [\"TEST\"] * 82\n",
    "train_0 = [\"TRAIN\"] * 83\n",
    "val_1 = [\"VAL\"] * 82\n",
    "test_1 = [\"TEST\"] * 82\n",
    "train_1 = [\"TRAIN\"] * 11158\n",
    "\n",
    "set_column = set + val_0 + test_0 + train_0 + val_1 + test_1 + train_1\n"
   ]
  },
  {
   "cell_type": "markdown",
   "metadata": {},
   "source": [
    "Append set row"
   ]
  },
  {
   "cell_type": "code",
   "execution_count": 4,
   "metadata": {},
   "outputs": [
    {
     "name": "stdout",
     "output_type": "stream",
     "text": [
      "New column added successfully!\n"
     ]
    }
   ],
   "source": [
    "import pandas as pd\n",
    "\n",
    "# Load the existing CSV file into a pandas DataFrame\n",
    "df = pd.read_csv('/vol/ideadata/ep56inew/EchoNet/EchoNet-LVH/MeasurementsList_new_clean_ASH_sorted.csv')\n",
    "\n",
    "# Define your list (with header as the first element)\n",
    "new_column = set_column # from previous block\n",
    "\n",
    "# Extract the header and the data separately\n",
    "column_name = new_column[0]  # First element is the header\n",
    "column_data = new_column[1:]  # Rest of the list is the data\n",
    "\n",
    "# Ensure the list has the same length as the DataFrame's rows\n",
    "if len(column_data) != len(df):\n",
    "    raise ValueError(\"Length of new column data does not match the number of rows in the CSV\")\n",
    "\n",
    "# Add the new column to the DataFrame\n",
    "df[column_name] = column_data\n",
    "\n",
    "# Save the updated DataFrame back to a CSV (or overwrite the original)\n",
    "df.to_csv('/vol/ideadata/ep56inew/EchoNet/EchoNet-LVH/MeasurementsList_new_clean_ASH_sorted_set.csv', index=False)\n",
    "\n",
    "print(\"New column added successfully!\")"
   ]
  },
  {
   "cell_type": "markdown",
   "metadata": {},
   "source": [
    "We need to use the official train-val-test split. Use the split from MeasurementsList.csv and append it to MeasurementsList_new_clean_ASH.csv"
   ]
  },
  {
   "cell_type": "code",
   "execution_count": null,
   "metadata": {},
   "outputs": [],
   "source": [
    "import csv\n",
    "\n",
    "def match_and_append(file1_path, file2_path, output_file_path):\n",
    "    \"\"\"\n",
    "    Reads two CSV files and appends the last entry of a matching row \n",
    "    from file1 to the corresponding row in file2.\n",
    "    \n",
    "    Args:\n",
    "        file1_path (str): Path to the first input CSV file.\n",
    "        file2_path (str): Path to the second input CSV file.\n",
    "        output_file_path (str): Path to save the updated second file.\n",
    "    \"\"\"\n",
    "    # Read file1 into a dictionary for fast lookups\n",
    "    file1_data = {}\n",
    "    with open(file1_path, 'r', newline='', encoding='utf-8') as file1:\n",
    "        reader = csv.reader(file1)\n",
    "        for row in reader:\n",
    "            if row:  # Skip empty rows\n",
    "                file1_data[row[1]] = row[-1]  # Store video name and split name\n",
    "\n",
    "    # Read file2, compare, and append matching data\n",
    "    updated_rows = []\n",
    "    with open(file2_path, 'r', newline='', encoding='utf-8') as file2:\n",
    "        reader = csv.reader(file2)\n",
    "        for row in reader:\n",
    "            if row:  # Skip empty rows\n",
    "                match_key = row[0]\n",
    "                if match_key in file1_data:\n",
    "                    row.append(file1_data[match_key])  # Append matching value\n",
    "            updated_rows.append(row)\n",
    "\n",
    "    # Write the updated rows to a new output file\n",
    "    with open(output_file_path, 'w', newline='', encoding='utf-8') as output_file:\n",
    "        writer = csv.writer(output_file)\n",
    "        writer.writerows(updated_rows)\n",
    "\n",
    "# Example usage:\n",
    "file1 = \"/vol/ideadata/ep56inew/EchoNet/EchoNet-LVH/MeasurementsList.csv\"\n",
    "file2 = \"/vol/ideadata/ep56inew/EchoNet/EchoNet-LVH/MeasurementsList_new_clean_ASH.csv\"\n",
    "output_file = \"/vol/ideadata/ep56inew/EchoNet/EchoNet-LVH/MeasurementsList_new_clean_ASH_official_split.csv\"\n",
    "# match_and_append('file1.csv', 'file2.csv', 'output.csv')   "
   ]
  },
  {
   "cell_type": "markdown",
   "metadata": {},
   "source": [
    "Now we want to count the class distribution in train, test, val"
   ]
  },
  {
   "cell_type": "code",
   "execution_count": null,
   "metadata": {},
   "outputs": [],
   "source": [
    "import csv \n",
    "from collections import defaultdict\n",
    "\n",
    "def count_classes_by_set(csv_file_path):\n",
    "    \"\"\"\n",
    "    Reads a CSV file and counts how many instances of each class are in each set (train, test, val).\n",
    "\n",
    "    Args:\n",
    "        csv_file_path (str): Path to the CSV file.\n",
    "\n",
    "    Returns:\n",
    "        dict: A dictionary with counts of each class in each set.\n",
    "    \"\"\"\n",
    "    # Dictionary to store counts: {set_name: {class_name: count}}\n",
    "    counts = defaultdict(lambda: defaultdict(int))\n",
    "    \n",
    "    with open(csv_file_path, 'r', newline='', encoding='utf-8') as file:\n",
    "        reader = csv.reader(file)\n",
    "        \n",
    "        # Iterate through the rows\n",
    "        for row in reader:\n",
    "            if len(row) < 2:\n",
    "                continue  # Skip rows with insufficient columns\n",
    "            \n",
    "            # Extract class and set\n",
    "            class_name = row[-2]  # Second last column\n",
    "            set_name = row[-1]    # Last column\n",
    "            \n",
    "            # Increment the count\n",
    "            counts[set_name][class_name] += 1\n",
    "    \n",
    "    return counts\n",
    "\n",
    "# Example usage:\n",
    "csv_file_path = '/vol/ideadata/ep56inew/EchoNet/EchoNet-LVH/MeasurementsList_new_clean_ASH_official_split_more_test.csv'  # Replace with your CSV file path\n",
    "result = count_classes_by_set(csv_file_path)\n",
    "\n",
    "# Print the results\n",
    "for set_name, class_counts in result.items():\n",
    "    print(f\"Set: {set_name}\")\n",
    "    for class_name, count in class_counts.items():\n",
    "        print(f\"  Class {class_name}: {count}\")"
   ]
  }
 ],
 "metadata": {
  "kernelspec": {
   "display_name": "Python 3",
   "language": "python",
   "name": "python3"
  },
  "language_info": {
   "codemirror_mode": {
    "name": "ipython",
    "version": 3
   },
   "file_extension": ".py",
   "mimetype": "text/x-python",
   "name": "python",
   "nbconvert_exporter": "python",
   "pygments_lexer": "ipython3",
   "version": "3.9.12"
  }
 },
 "nbformat": 4,
 "nbformat_minor": 2
}
